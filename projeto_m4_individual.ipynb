{
  "cells": [
    {
      "cell_type": "markdown",
      "metadata": {
        "id": "XT-VcMQfmqbQ"
      },
      "source": [
        "# **Relatório de desenvolvimento do ShardSoftware**\n",
        " \n",
        "\n",
        "\n"
      ]
    },
    {
      "cell_type": "code",
      "execution_count": 1,
      "metadata": {
        "id": "VEwM0rNEpI-N"
      },
      "outputs": [],
      "source": [
        "import pandas as pd\n",
        "import matplotlib.pyplot as plt\n"
      ]
    },
    {
      "cell_type": "markdown",
      "metadata": {},
      "source": [
        "Abaixo temos uma tabela que nos mostra alguns números correspondentes as horas e atividades executadas em cada dia da semana no processo de desenvolvimento do ShardSoftware. Partindo dos dados que este dataframe nos traz, faremos o cálculo total das horas e das atividades executadas, assim como sua média para que possamos analizar o desempenho, possibilitando identificar o andamento dos processos, demonstrando os pontos altos e baixos que permitirão sugerir melhorias.\n",
        " \n"
      ]
    },
    {
      "cell_type": "code",
      "execution_count": 2,
      "metadata": {
        "colab": {
          "base_uri": "https://localhost:8080/"
        },
        "id": "GUiJjAQ2mz4q",
        "outputId": "e3b4c281-94c1-4629-87e2-0c5655c58a74"
      },
      "outputs": [
        {
          "data": {
            "text/html": [
              "<div>\n",
              "<style scoped>\n",
              "    .dataframe tbody tr th:only-of-type {\n",
              "        vertical-align: middle;\n",
              "    }\n",
              "\n",
              "    .dataframe tbody tr th {\n",
              "        vertical-align: top;\n",
              "    }\n",
              "\n",
              "    .dataframe thead th {\n",
              "        text-align: right;\n",
              "    }\n",
              "</style>\n",
              "<table border=\"1\" class=\"dataframe\">\n",
              "  <thead>\n",
              "    <tr style=\"text-align: right;\">\n",
              "      <th></th>\n",
              "      <th>dia</th>\n",
              "      <th>horas trabalhadas</th>\n",
              "      <th>bugs corrigidos</th>\n",
              "      <th>tarefas concluidas</th>\n",
              "    </tr>\n",
              "  </thead>\n",
              "  <tbody>\n",
              "    <tr>\n",
              "      <th>0</th>\n",
              "      <td>segunda</td>\n",
              "      <td>6</td>\n",
              "      <td>3</td>\n",
              "      <td>5</td>\n",
              "    </tr>\n",
              "    <tr>\n",
              "      <th>1</th>\n",
              "      <td>terça</td>\n",
              "      <td>7</td>\n",
              "      <td>2</td>\n",
              "      <td>4</td>\n",
              "    </tr>\n",
              "    <tr>\n",
              "      <th>2</th>\n",
              "      <td>quarta</td>\n",
              "      <td>8</td>\n",
              "      <td>1</td>\n",
              "      <td>6</td>\n",
              "    </tr>\n",
              "    <tr>\n",
              "      <th>3</th>\n",
              "      <td>quinta</td>\n",
              "      <td>6</td>\n",
              "      <td>4</td>\n",
              "      <td>4</td>\n",
              "    </tr>\n",
              "    <tr>\n",
              "      <th>4</th>\n",
              "      <td>sexta</td>\n",
              "      <td>7</td>\n",
              "      <td>3</td>\n",
              "      <td>5</td>\n",
              "    </tr>\n",
              "    <tr>\n",
              "      <th>5</th>\n",
              "      <td>sábado</td>\n",
              "      <td>5</td>\n",
              "      <td>2</td>\n",
              "      <td>3</td>\n",
              "    </tr>\n",
              "    <tr>\n",
              "      <th>6</th>\n",
              "      <td>domingo</td>\n",
              "      <td>4</td>\n",
              "      <td>1</td>\n",
              "      <td>2</td>\n",
              "    </tr>\n",
              "  </tbody>\n",
              "</table>\n",
              "</div>"
            ],
            "text/plain": [
              "       dia  horas trabalhadas  bugs corrigidos  tarefas concluidas\n",
              "0  segunda                  6                3                   5\n",
              "1    terça                  7                2                   4\n",
              "2   quarta                  8                1                   6\n",
              "3   quinta                  6                4                   4\n",
              "4    sexta                  7                3                   5\n",
              "5   sábado                  5                2                   3\n",
              "6  domingo                  4                1                   2"
            ]
          },
          "execution_count": 2,
          "metadata": {},
          "output_type": "execute_result"
        }
      ],
      "source": [
        "tabela = {'dia':['segunda', 'terça', 'quarta', 'quinta','sexta', 'sábado','domingo'],\n",
        "          'horas trabalhadas':[6, 7, 8, 6, 7, 5, 4],\n",
        "          'bugs corrigidos':[3, 2, 1, 4, 3, 2, 1],\n",
        "          'tarefas concluidas':[5, 4, 6, 4, 5, 3, 2]}\n",
        "table = pd.DataFrame(tabela)\n",
        "table"
      ]
    },
    {
      "cell_type": "markdown",
      "metadata": {
        "id": "z0h0pU97DsuD"
      },
      "source": [
        "Calculando os dados:\n",
        "1. Total de Horas Trabalhadas\n",
        "2. Média Diária de Horas Trabalhadas\n",
        "3. Total de Bugs Corrigidos\n",
        "4. Média Diária de Bugs Corrigidos\n",
        "5. Total de Tarefas Concluídas\n",
        "6. Média Diária de Tarefas Concluídas\n",
        "7. Produtividade Diária (Tarefas Concluídas por Hora)\n"
      ]
    },
    {
      "cell_type": "markdown",
      "metadata": {},
      "source": [
        " ## **Horas de trabalho**\n",
        " "
      ]
    },
    {
      "cell_type": "code",
      "execution_count": 4,
      "metadata": {},
      "outputs": [
        {
          "name": "stdout",
          "output_type": "stream",
          "text": [
            "Total de horas trabalhadas:  43\n",
            "Média de horas trabalhadas: 6.14\n"
          ]
        }
      ],
      "source": [
        "# Total de horas trabalhadas\n",
        "total_hr_trabalhadas = sum([6, 7, 8, 6, 7, 5, 4])\n",
        "print('Total de horas trabalhadas: ', total_hr_trabalhadas)\n",
        "\n",
        "\n",
        "# Média das horas trabalhadas\n",
        "media = total_hr_trabalhadas / 7\n",
        "print('Média de horas trabalhadas: %.2f'% media)"
      ]
    },
    {
      "cell_type": "markdown",
      "metadata": {},
      "source": [
        "* Gráfico de horas"
      ]
    },
    {
      "cell_type": "code",
      "execution_count": 8,
      "metadata": {},
      "outputs": [
        {
          "data": {
            "image/png": "[encoded data removed]",
            "text/plain": [
              "<Figure size 640x480 with 1 Axes>"
            ]
          },
          "metadata": {},
          "output_type": "display_data"
        }
      ],
      "source": [
        "x = ['segunda', 'terça', 'quarta', 'quinta','sexta', 'sábado','domingo']\n",
        "y = [6, 7, 8, 6, 7, 5, 4]\n",
        "\n",
        "plt.bar(x, y)\n",
        "plt.show()"
      ]
    },
    {
      "cell_type": "markdown",
      "metadata": {
        "id": "XVNMmLy1rgm8"
      },
      "source": [
        "\n",
        "## **Tratamento de bugs**"
      ]
    },
    {
      "cell_type": "code",
      "execution_count": 19,
      "metadata": {},
      "outputs": [
        {
          "name": "stdout",
          "output_type": "stream",
          "text": [
            "Total de bugs corrigidos:  16\n",
            "Média de bugs corrigidos / dia: 2.29\n"
          ]
        }
      ],
      "source": [
        "# Total de bugs corrigidos\n",
        "total_bugs = sum([3, 2, 1, 4, 3, 2, 1])\n",
        "print('Total de bugs corrigidos: ', total_bugs)\n",
        "\n",
        "# Média de bugs corrigidos/dia\n",
        "media_bug = total_bugs / 7\n",
        "print('Média de bugs corrigidos / dia: %.2f'% media_bug)\n"
      ]
    },
    {
      "cell_type": "markdown",
      "metadata": {},
      "source": [
        "* Gráfico de bugs"
      ]
    },
    {
      "cell_type": "code",
      "execution_count": 25,
      "metadata": {
        "colab": {
          "base_uri": "https://localhost:8080/",
          "height": 452
        },
        "id": "CaUgOfcvsAD6",
        "outputId": "54517df7-c80b-4e4c-a6b5-cc9df389d6bb"
      },
      "outputs": [
        {
          "data": {
            "image/png": "[encoded data removed]",
            "text/plain": [
              "<Figure size 640x480 with 1 Axes>"
            ]
          },
          "metadata": {},
          "output_type": "display_data"
        }
      ],
      "source": [
        "y = [3, 2, 1, 4, 3, 2, 1]\n",
        "x = ['segunda', 'terça', 'quarta', 'quinta','sexta', 'sábado','domingo']\n",
        "\n",
        "plt.title('Bugs corrigidos por dia')\n",
        "plt.bar(x, y, color = 'orange')\n",
        "plt.show()"
      ]
    },
    {
      "cell_type": "markdown",
      "metadata": {},
      "source": [
        "## **Progresso de tarefas**"
      ]
    },
    {
      "cell_type": "code",
      "execution_count": 21,
      "metadata": {
        "colab": {
          "base_uri": "https://localhost:8080/"
        },
        "id": "7v2_0cALvaGX",
        "outputId": "ef2928ea-5994-4450-d689-f9bf05d8501b"
      },
      "outputs": [
        {
          "name": "stdout",
          "output_type": "stream",
          "text": [
            "Total de tarefas concluídas:  29\n",
            "Média de tarefas concluídas: 4.14\n"
          ]
        }
      ],
      "source": [
        "# Total de tarefas concluídas\n",
        "total_tarefas = sum([5, 4, 6, 4, 5, 3, 2])\n",
        "print('Total de tarefas concluídas: ', total_tarefas)\n",
        "\n",
        "# Média de tarefas concluídas\n",
        "media_tarefa = total_tarefas / 7\n",
        "print('Média de tarefas concluídas: %.2f'% media_tarefa)"
      ]
    },
    {
      "cell_type": "markdown",
      "metadata": {},
      "source": [
        "* Gráfico de tarefas conluídas por dia"
      ]
    },
    {
      "cell_type": "code",
      "execution_count": 22,
      "metadata": {},
      "outputs": [
        {
          "data": {
            "image/png": "[encoded data removed]",
            "text/plain": [
              "<Figure size 640x480 with 1 Axes>"
            ]
          },
          "metadata": {},
          "output_type": "display_data"
        }
      ],
      "source": [
        "x = ['segunda', 'terça', 'quarta', 'quinta','sexta', 'sábado','domingo']\n",
        "y = [5, 4, 6, 4, 5, 3, 2]\n",
        "\n",
        "plt.bar(x, y, color = 'g')\n",
        "plt.show()"
      ]
    },
    {
      "cell_type": "markdown",
      "metadata": {},
      "source": [
        "* Média de produtividade diária"
      ]
    },
    {
      "cell_type": "code",
      "execution_count": 36,
      "metadata": {
        "colab": {
          "base_uri": "https://localhost:8080/"
        },
        "id": "lmmJlE_ZGWYz",
        "outputId": "187e8b67-a271-4e28-af13-b205adb64f5b"
      },
      "outputs": [
        {
          "name": "stdout",
          "output_type": "stream",
          "text": [
            "Média de tarefas concluídas por hora: \n"
          ]
        },
        {
          "data": {
            "text/html": [
              "<div>\n",
              "<style scoped>\n",
              "    .dataframe tbody tr th:only-of-type {\n",
              "        vertical-align: middle;\n",
              "    }\n",
              "\n",
              "    .dataframe tbody tr th {\n",
              "        vertical-align: top;\n",
              "    }\n",
              "\n",
              "    .dataframe thead th {\n",
              "        text-align: right;\n",
              "    }\n",
              "</style>\n",
              "<table border=\"1\" class=\"dataframe\">\n",
              "  <thead>\n",
              "    <tr style=\"text-align: right;\">\n",
              "      <th></th>\n",
              "      <th>Média de produtividade por hora</th>\n",
              "    </tr>\n",
              "  </thead>\n",
              "  <tbody>\n",
              "    <tr>\n",
              "      <th>segunda</th>\n",
              "      <td>1.20</td>\n",
              "    </tr>\n",
              "    <tr>\n",
              "      <th>terça</th>\n",
              "      <td>1.75</td>\n",
              "    </tr>\n",
              "    <tr>\n",
              "      <th>quarta</th>\n",
              "      <td>1.33</td>\n",
              "    </tr>\n",
              "    <tr>\n",
              "      <th>quinta</th>\n",
              "      <td>1.50</td>\n",
              "    </tr>\n",
              "    <tr>\n",
              "      <th>sexta</th>\n",
              "      <td>1.40</td>\n",
              "    </tr>\n",
              "    <tr>\n",
              "      <th>sábado</th>\n",
              "      <td>1.67</td>\n",
              "    </tr>\n",
              "    <tr>\n",
              "      <th>domingo</th>\n",
              "      <td>2.00</td>\n",
              "    </tr>\n",
              "  </tbody>\n",
              "</table>\n",
              "</div>"
            ],
            "text/plain": [
              "         Média de produtividade por hora\n",
              "segunda                             1.20\n",
              "terça                               1.75\n",
              "quarta                              1.33\n",
              "quinta                              1.50\n",
              "sexta                               1.40\n",
              "sábado                              1.67\n",
              "domingo                             2.00"
            ]
          },
          "execution_count": 36,
          "metadata": {},
          "output_type": "execute_result"
        }
      ],
      "source": [
        "horas_trabalhadas = [6, 7, 8, 6, 7, 5, 4]\n",
        "tarefas_concluidas = [5, 4, 6, 4, 5, 3, 2]\n",
        "\n",
        "produtividade = []\n",
        "\n",
        "for horas, tarefas in zip(horas_trabalhadas, tarefas_concluidas):\n",
        "    media_produtividade = horas / tarefas\n",
        "    produtividade.append(media_produtividade)\n",
        "\n",
        "print('Média de tarefas concluídas por hora: ')\n",
        "\n",
        "indice_producao = pd.DataFrame(produtividade, x, columns=['Média de produtividade por hora'])\n",
        "indice_producao.round(2)\n",
        "\n"
      ]
    },
    {
      "cell_type": "markdown",
      "metadata": {},
      "source": [
        "* Gráfico da média de tarefas por dia"
      ]
    },
    {
      "cell_type": "code",
      "execution_count": 29,
      "metadata": {},
      "outputs": [
        {
          "data": {
            "image/png": "[encoded data removed]",
            "text/plain": [
              "<Figure size 640x480 with 1 Axes>"
            ]
          },
          "metadata": {},
          "output_type": "display_data"
        }
      ],
      "source": [
        "x = ['segunda', 'terça', 'quarta', 'quinta','sexta', 'sábado','domingo']\n",
        "y = produtividade\n",
        "\n",
        "plt.title('Média de tarefas concluídas por dia')\n",
        "plt.plot(x, y)\n",
        "plt.ylabel('Horas\\n')\n",
        "plt.xlabel('\\nDia da semana')\n",
        "plt.show()"
      ]
    }
  ],
  "metadata": {
    "colab": {
      "provenance": []
    },
    "kernelspec": {
      "display_name": "Python 3",
      "name": "python3"
    },
    "language_info": {
      "codemirror_mode": {
        "name": "ipython",
        "version": 3
      },
      "file_extension": ".py",
      "mimetype": "text/x-python",
      "name": "python",
      "nbconvert_exporter": "python",
      "pygments_lexer": "ipython3",
      "version": "3.11.3"
    }
  },
  "nbformat": 4,
  "nbformat_minor": 0
}
