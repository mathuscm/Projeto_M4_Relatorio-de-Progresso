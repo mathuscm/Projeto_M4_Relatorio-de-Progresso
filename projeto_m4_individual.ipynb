{
  "cells": [
    {
      "cell_type": "markdown",
      "metadata": {
        "id": "XT-VcMQfmqbQ"
      },
      "source": [
        "# Estudos para o projeto individual M4\n",
        "\n",
        "\n"
      ]
    },
    {
      "cell_type": "code",
      "execution_count": 4,
      "metadata": {
        "id": "VEwM0rNEpI-N"
      },
      "outputs": [],
      "source": [
        "import pandas as pd\n",
        "import matplotlib.pyplot as plt\n"
      ]
    },
    {
      "cell_type": "code",
      "execution_count": 5,
      "metadata": {
        "colab": {
          "base_uri": "https://localhost:8080/"
        },
        "id": "GUiJjAQ2mz4q",
        "outputId": "e3b4c281-94c1-4629-87e2-0c5655c58a74"
      },
      "outputs": [
        {
          "name": "stdout",
          "output_type": "stream",
          "text": [
            "{'dia': ['segunda', 'terça', 'quarta', 'quinta', 'sexta', 'sábado', 'domingo'], 'horas trabalhadas': [6, 7, 8, 6, 7, 5, 4], 'bugs corrigidos': [3, 2, 1, 4, 3, 2, 1], 'tarefas concluidas': [5, 4, 6, 4, 5, 3, 2]}\n"
          ]
        }
      ],
      "source": [
        "tabela = {'dia':['segunda', 'terça', 'quarta', 'quinta','sexta', 'sábado','domingo'],\n",
        "          'horas trabalhadas':[6, 7, 8, 6, 7, 5, 4],\n",
        "          'bugs corrigidos':[3, 2, 1, 4, 3, 2, 1],\n",
        "          'tarefas concluidas':[5, 4, 6, 4, 5, 3, 2]}\n",
        "print(tabela)"
      ]
    },
    {
      "cell_type": "code",
      "execution_count": 6,
      "metadata": {
        "colab": {
          "base_uri": "https://localhost:8080/",
          "height": 269
        },
        "id": "X8vzHCIkpalj",
        "outputId": "c235cc77-95af-4623-b23d-abad37ae8e89"
      },
      "outputs": [
        {
          "data": {
            "text/html": [
              "\n",
              "\n",
              "  <div id=\"df-51815de9-3dbd-4e15-bed0-f5a0a428c3e0\">\n",
              "    <div class=\"colab-df-container\">\n",
              "      <div>\n",
              "<style scoped>\n",
              "    .dataframe tbody tr th:only-of-type {\n",
              "        vertical-align: middle;\n",
              "    }\n",
              "\n",
              "    .dataframe tbody tr th {\n",
              "        vertical-align: top;\n",
              "    }\n",
              "\n",
              "    .dataframe thead th {\n",
              "        text-align: right;\n",
              "    }\n",
              "</style>\n",
              "<table border=\"1\" class=\"dataframe\">\n",
              "  <thead>\n",
              "    <tr style=\"text-align: right;\">\n",
              "      <th></th>\n",
              "      <th>dia</th>\n",
              "      <th>horas trabalhadas</th>\n",
              "      <th>bugs corrigidos</th>\n",
              "      <th>tarefas concluidas</th>\n",
              "    </tr>\n",
              "  </thead>\n",
              "  <tbody>\n",
              "    <tr>\n",
              "      <th>0</th>\n",
              "      <td>segunda</td>\n",
              "      <td>6</td>\n",
              "      <td>3</td>\n",
              "      <td>5</td>\n",
              "    </tr>\n",
              "    <tr>\n",
              "      <th>1</th>\n",
              "      <td>terça</td>\n",
              "      <td>7</td>\n",
              "      <td>2</td>\n",
              "      <td>4</td>\n",
              "    </tr>\n",
              "    <tr>\n",
              "      <th>2</th>\n",
              "      <td>quarta</td>\n",
              "      <td>8</td>\n",
              "      <td>1</td>\n",
              "      <td>6</td>\n",
              "    </tr>\n",
              "    <tr>\n",
              "      <th>3</th>\n",
              "      <td>quinta</td>\n",
              "      <td>6</td>\n",
              "      <td>4</td>\n",
              "      <td>4</td>\n",
              "    </tr>\n",
              "    <tr>\n",
              "      <th>4</th>\n",
              "      <td>sexta</td>\n",
              "      <td>7</td>\n",
              "      <td>3</td>\n",
              "      <td>5</td>\n",
              "    </tr>\n",
              "    <tr>\n",
              "      <th>5</th>\n",
              "      <td>sábado</td>\n",
              "      <td>5</td>\n",
              "      <td>2</td>\n",
              "      <td>3</td>\n",
              "    </tr>\n",
              "    <tr>\n",
              "      <th>6</th>\n",
              "      <td>domingo</td>\n",
              "      <td>4</td>\n",
              "      <td>1</td>\n",
              "      <td>2</td>\n",
              "    </tr>\n",
              "  </tbody>\n",
              "</table>\n",
              "</div>\n",
              "      <button class=\"colab-df-convert\" onclick=\"convertToInteractive('df-51815de9-3dbd-4e15-bed0-f5a0a428c3e0')\"\n",
              "              title=\"Convert this dataframe to an interactive table.\"\n",
              "              style=\"display:none;\">\n",
              "\n",
              "  <svg xmlns=\"http://www.w3.org/2000/svg\" height=\"24px\"viewBox=\"0 0 24 24\"\n",
              "       width=\"24px\">\n",
              "    <path d=\"M0 0h24v24H0V0z\" fill=\"none\"/>\n",
              "    <path d=\"M18.56 5.44l.94 2.06.94-2.06 2.06-.94-2.06-.94-.94-2.06-.94 2.06-2.06.94zm-11 1L8.5 8.5l.94-2.06 2.06-.94-2.06-.94L8.5 2.5l-.94 2.06-2.06.94zm10 10l.94 2.06.94-2.06 2.06-.94-2.06-.94-.94-2.06-.94 2.06-2.06.94z\"/><path d=\"M17.41 7.96l-1.37-1.37c-.4-.4-.92-.59-1.43-.59-.52 0-1.04.2-1.43.59L10.3 9.45l-7.72 7.72c-.78.78-.78 2.05 0 2.83L4 21.41c.39.39.9.59 1.41.59.51 0 1.02-.2 1.41-.59l7.78-7.78 2.81-2.81c.8-.78.8-2.07 0-2.86zM5.41 20L4 18.59l7.72-7.72 1.47 1.35L5.41 20z\"/>\n",
              "  </svg>\n",
              "      </button>\n",
              "\n",
              "\n",
              "\n",
              "    <div id=\"df-07231880-0d3a-4be1-8d46-eb03c8c6d347\">\n",
              "      <button class=\"colab-df-quickchart\" onclick=\"quickchart('df-07231880-0d3a-4be1-8d46-eb03c8c6d347')\"\n",
              "              title=\"Suggest charts.\"\n",
              "              style=\"display:none;\">\n",
              "\n",
              "<svg xmlns=\"http://www.w3.org/2000/svg\" height=\"24px\"viewBox=\"0 0 24 24\"\n",
              "     width=\"24px\">\n",
              "    <g>\n",
              "        <path d=\"M19 3H5c-1.1 0-2 .9-2 2v14c0 1.1.9 2 2 2h14c1.1 0 2-.9 2-2V5c0-1.1-.9-2-2-2zM9 17H7v-7h2v7zm4 0h-2V7h2v10zm4 0h-2v-4h2v4z\"/>\n",
              "    </g>\n",
              "</svg>\n",
              "      </button>\n",
              "    </div>\n",
              "\n",
              "<style>\n",
              "  .colab-df-quickchart {\n",
              "    background-color: #E8F0FE;\n",
              "    border: none;\n",
              "    border-radius: 50%;\n",
              "    cursor: pointer;\n",
              "    display: none;\n",
              "    fill: #1967D2;\n",
              "    height: 32px;\n",
              "    padding: 0 0 0 0;\n",
              "    width: 32px;\n",
              "  }\n",
              "\n",
              "  .colab-df-quickchart:hover {\n",
              "    background-color: #E2EBFA;\n",
              "    box-shadow: 0px 1px 2px rgba(60, 64, 67, 0.3), 0px 1px 3px 1px rgba(60, 64, 67, 0.15);\n",
              "    fill: #174EA6;\n",
              "  }\n",
              "\n",
              "  [theme=dark] .colab-df-quickchart {\n",
              "    background-color: #3B4455;\n",
              "    fill: #D2E3FC;\n",
              "  }\n",
              "\n",
              "  [theme=dark] .colab-df-quickchart:hover {\n",
              "    background-color: #434B5C;\n",
              "    box-shadow: 0px 1px 3px 1px rgba(0, 0, 0, 0.15);\n",
              "    filter: drop-shadow(0px 1px 2px rgba(0, 0, 0, 0.3));\n",
              "    fill: #FFFFFF;\n",
              "  }\n",
              "</style>\n",
              "\n",
              "    <script>\n",
              "      async function quickchart(key) {\n",
              "        const containerElement = document.querySelector('#' + key);\n",
              "        const charts = await google.colab.kernel.invokeFunction(\n",
              "            'suggestCharts', [key], {});\n",
              "      }\n",
              "    </script>\n",
              "\n",
              "      <script>\n",
              "\n",
              "function displayQuickchartButton(domScope) {\n",
              "  let quickchartButtonEl =\n",
              "    domScope.querySelector('#df-07231880-0d3a-4be1-8d46-eb03c8c6d347 button.colab-df-quickchart');\n",
              "  quickchartButtonEl.style.display =\n",
              "    google.colab.kernel.accessAllowed ? 'block' : 'none';\n",
              "}\n",
              "\n",
              "        displayQuickchartButton(document);\n",
              "      </script>\n",
              "      <style>\n",
              "    .colab-df-container {\n",
              "      display:flex;\n",
              "      flex-wrap:wrap;\n",
              "      gap: 12px;\n",
              "    }\n",
              "\n",
              "    .colab-df-convert {\n",
              "      background-color: #E8F0FE;\n",
              "      border: none;\n",
              "      border-radius: 50%;\n",
              "      cursor: pointer;\n",
              "      display: none;\n",
              "      fill: #1967D2;\n",
              "      height: 32px;\n",
              "      padding: 0 0 0 0;\n",
              "      width: 32px;\n",
              "    }\n",
              "\n",
              "    .colab-df-convert:hover {\n",
              "      background-color: #E2EBFA;\n",
              "      box-shadow: 0px 1px 2px rgba(60, 64, 67, 0.3), 0px 1px 3px 1px rgba(60, 64, 67, 0.15);\n",
              "      fill: #174EA6;\n",
              "    }\n",
              "\n",
              "    [theme=dark] .colab-df-convert {\n",
              "      background-color: #3B4455;\n",
              "      fill: #D2E3FC;\n",
              "    }\n",
              "\n",
              "    [theme=dark] .colab-df-convert:hover {\n",
              "      background-color: #434B5C;\n",
              "      box-shadow: 0px 1px 3px 1px rgba(0, 0, 0, 0.15);\n",
              "      filter: drop-shadow(0px 1px 2px rgba(0, 0, 0, 0.3));\n",
              "      fill: #FFFFFF;\n",
              "    }\n",
              "  </style>\n",
              "\n",
              "      <script>\n",
              "        const buttonEl =\n",
              "          document.querySelector('#df-51815de9-3dbd-4e15-bed0-f5a0a428c3e0 button.colab-df-convert');\n",
              "        buttonEl.style.display =\n",
              "          google.colab.kernel.accessAllowed ? 'block' : 'none';\n",
              "\n",
              "        async function convertToInteractive(key) {\n",
              "          const element = document.querySelector('#df-51815de9-3dbd-4e15-bed0-f5a0a428c3e0');\n",
              "          const dataTable =\n",
              "            await google.colab.kernel.invokeFunction('convertToInteractive',\n",
              "                                                     [key], {});\n",
              "          if (!dataTable) return;\n",
              "\n",
              "          const docLinkHtml = 'Like what you see? Visit the ' +\n",
              "            '<a target=\"_blank\" href=https://colab.research.google.com/notebooks/data_table.ipynb>data table notebook</a>'\n",
              "            + ' to learn more about interactive tables.';\n",
              "          element.innerHTML = '';\n",
              "          dataTable['output_type'] = 'display_data';\n",
              "          await google.colab.output.renderOutput(dataTable, element);\n",
              "          const docLink = document.createElement('div');\n",
              "          docLink.innerHTML = docLinkHtml;\n",
              "          element.appendChild(docLink);\n",
              "        }\n",
              "      </script>\n",
              "    </div>\n",
              "  </div>\n"
            ],
            "text/plain": [
              "       dia  horas trabalhadas  bugs corrigidos  tarefas concluidas\n",
              "0  segunda                  6                3                   5\n",
              "1    terça                  7                2                   4\n",
              "2   quarta                  8                1                   6\n",
              "3   quinta                  6                4                   4\n",
              "4    sexta                  7                3                   5\n",
              "5   sábado                  5                2                   3\n",
              "6  domingo                  4                1                   2"
            ]
          },
          "execution_count": 6,
          "metadata": {},
          "output_type": "execute_result"
        }
      ],
      "source": [
        "table = pd.DataFrame(tabela)\n",
        "table"
      ]
    },
    {
      "cell_type": "markdown",
      "metadata": {
        "id": "XVNMmLy1rgm8"
      },
      "source": [
        "# Criando um gráfico para mostrar a quantidade de bugs corrigidos por dia da semana\n"
      ]
    },
    {
      "cell_type": "code",
      "execution_count": 7,
      "metadata": {
        "colab": {
          "base_uri": "https://localhost:8080/",
          "height": 452
        },
        "id": "CaUgOfcvsAD6",
        "outputId": "54517df7-c80b-4e4c-a6b5-cc9df389d6bb"
      },
      "outputs": [
        {
          "data": {
            "image/png": "[encoded data removed]",
            "text/plain": [
              "<Figure size 640x480 with 1 Axes>"
            ]
          },
          "metadata": {},
          "output_type": "display_data"
        }
      ],
      "source": [
        "y = [3, 2, 1, 4, 3, 2, 1]\n",
        "x = ['segunda', 'terça', 'quarta', 'quinta','sexta', 'sábado','domingo']\n",
        "\n",
        "plt.title('Bugs corrigidos por dia')\n",
        "plt.plot(x, y)\n",
        "plt.show()"
      ]
    },
    {
      "cell_type": "markdown",
      "metadata": {
        "id": "z0h0pU97DsuD"
      },
      "source": [
        "Lista de procedimento:\n",
        "1. Total de Horas Trabalhadas\n",
        "2. Média Diária de Horas Trabalhadas\n",
        "3. Total de Bugs Corrigidos\n",
        "4. Média Diária de Bugs Corrigidos\n",
        "5. Total de Tarefas Concluídas\n",
        "6. Média Diária de Tarefas Concluídas\n",
        "7. Produtividade Diária (Tarefas Concluídas por Hora)\n"
      ]
    },
    {
      "cell_type": "code",
      "execution_count": 23,
      "metadata": {
        "colab": {
          "base_uri": "https://localhost:8080/"
        },
        "id": "7v2_0cALvaGX",
        "outputId": "ef2928ea-5994-4450-d689-f9bf05d8501b"
      },
      "outputs": [
        {
          "name": "stdout",
          "output_type": "stream",
          "text": [
            "Total de horas trabalhadas:  43\n",
            "Média de horas trabalhadas: 6.14\n",
            "Total de bugs corrigidos:  16\n",
            "Média de bugs corrigidos / dia: 2.29\n",
            "Total de tarefas concluídas:  29\n",
            "Média de tarefas concluídas: 4.14\n"
          ]
        }
      ],
      "source": [
        "# Total de horas trabalhadas\n",
        "total_hr_trabalhadas = sum([6, 7, 8, 6, 7, 5, 4])\n",
        "print('Total de horas trabalhadas: ', total_hr_trabalhadas)\n",
        "\n",
        "# Média das horas trabalhadas\n",
        "media = total_hr_trabalhadas / 7\n",
        "print('Média de horas trabalhadas: %.2f'% media)\n",
        "\n",
        "# Total de bugs corrigidos\n",
        "total_bugs = sum([3, 2, 1, 4, 3, 2, 1])\n",
        "print('Total de bugs corrigidos: ', total_bugs)\n",
        "\n",
        "# Média de bugs corrigidos/dia\n",
        "media_bug = total_bugs / 7\n",
        "print('Média de bugs corrigidos / dia: %.2f'% media_bug)\n",
        "\n",
        "# Total de tarefas concluídas\n",
        "total_tarefas = sum([5, 4, 6, 4, 5, 3, 2])\n",
        "print('Total de tarefas concluídas: ', total_tarefas)\n",
        "\n",
        "# Média de tarefas concluídas\n",
        "media_tarefa = total_tarefas / 7\n",
        "print('Média de tarefas concluídas: %.2f'% media_tarefa)\n",
        "\n",
        "\n",
        "\n"
      ]
    },
    {
      "cell_type": "code",
      "execution_count": 23,
      "metadata": {
        "colab": {
          "base_uri": "https://localhost:8080/"
        },
        "id": "lmmJlE_ZGWYz",
        "outputId": "187e8b67-a271-4e28-af13-b205adb64f5b"
      },
      "outputs": [
        {
          "name": "stdout",
          "output_type": "stream",
          "text": [
            "Média de tarefas concluídas por hora: \n",
            "1.2\n",
            "1.75\n",
            "1.3333333333333333\n",
            "1.5\n",
            "1.4\n",
            "1.6666666666666667\n",
            "2.0\n"
          ]
        }
      ],
      "source": [
        "# Produtividade Diária (Tarefas Concluídas por Hora)\n",
        "horas_trabalhadas = [6, 7, 8, 6, 7, 5, 4]\n",
        "tarefas_concluidas = [5, 4, 6, 4, 5, 3, 2]\n",
        "\n",
        "produtividade = []\n",
        "\n",
        "for horas, tarefas in zip(horas_trabalhadas, tarefas_concluidas):\n",
        "    media_produtividade = horas / tarefas\n",
        "    produtividade.append(media_produtividade)\n",
        "\n",
        "print('Média de tarefas concluídas por hora: ')\n",
        "\n",
        "for i in produtividade:\n",
        "    print(i)\n",
        "\n",
        "\n"
      ]
    }
  ],
  "metadata": {
    "colab": {
      "provenance": []
    },
    "kernelspec": {
      "display_name": "Python 3",
      "name": "python3"
    },
    "language_info": {
      "codemirror_mode": {
        "name": "ipython",
        "version": 3
      },
      "file_extension": ".py",
      "mimetype": "text/x-python",
      "name": "python",
      "nbconvert_exporter": "python",
      "pygments_lexer": "ipython3",
      "version": "3.11.3"
    }
  },
  "nbformat": 4,
  "nbformat_minor": 0
}
